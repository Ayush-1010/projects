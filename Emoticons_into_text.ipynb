{
  "nbformat": 4,
  "nbformat_minor": 0,
  "metadata": {
    "colab": {
      "name": "Emoticons into text",
      "provenance": [],
      "collapsed_sections": []
    },
    "kernelspec": {
      "name": "python3",
      "display_name": "Python 3"
    }
  },
  "cells": [
    {
      "cell_type": "code",
      "metadata": {
        "id": "DyRrenUStr77",
        "colab_type": "code",
        "colab": {}
      },
      "source": [
        "import numpy as np\n",
        "import pandas as pd\n",
        "import matplotlib.pyplot as plt\n",
        "%matplotlib inline"
      ],
      "execution_count": 0,
      "outputs": []
    },
    {
      "cell_type": "code",
      "metadata": {
        "id": "DMy4h0-Pt7QM",
        "colab_type": "code",
        "outputId": "a151a25f-1cd0-4c41-c9de-8daa9b3940f6",
        "colab": {
          "base_uri": "https://localhost:8080/",
          "height": 35
        }
      },
      "source": [
        "#Installing emot library\n",
        "!pip install emot\n",
        "\n",
        "\n",
        "#Importing libraries\n",
        "import re   #  :A regular expression is a special sequence of characters \n",
        "            # that helps you match or find other strings or sets of strings, using a specialized syntax held in a pattern. \n",
        "\n",
        "# for more information on re : https://www.tutorialspoint.com/python/python_reg_expressions.htm\n",
        "\n",
        "\n",
        "from emot.emo_unicode import UNICODE_EMO, EMOTICONS"
      ],
      "execution_count": 28,
      "outputs": [
        {
          "output_type": "stream",
          "text": [
            "Requirement already satisfied: emot in /usr/local/lib/python3.6/dist-packages (2.1)\n"
          ],
          "name": "stdout"
        }
      ]
    },
    {
      "cell_type": "code",
      "metadata": {
        "id": "2fVpAs2uuBdA",
        "colab_type": "code",
        "colab": {}
      },
      "source": [
        "# UNICODE_EMO : contains text code for each emoji i.e. 😂 : smiley_face_with_tears"
      ],
      "execution_count": 0,
      "outputs": []
    },
    {
      "cell_type": "code",
      "metadata": {
        "id": "2FF9PbyGuINY",
        "colab_type": "code",
        "colab": {}
      },
      "source": [
        "# EMOTICONS : contains key codes for emoticons i.e. :) - for smiley face"
      ],
      "execution_count": 0,
      "outputs": []
    },
    {
      "cell_type": "code",
      "metadata": {
        "id": "TrqJMiWsudc0",
        "colab_type": "code",
        "colab": {}
      },
      "source": [
        "# defining the function that converts emojis into text.\n",
        "\n",
        "def convert_emoticon(comment):\n",
        "    for emot in UNICODE_EMO:\n",
        "        comment = comment.replace(emot, \"_\".join(UNICODE_EMO[emot].replace(\":\",\"\").replace(\":\",\"\").split()))\n",
        "    return comment\n"
      ],
      "execution_count": 0,
      "outputs": []
    },
    {
      "cell_type": "code",
      "metadata": {
        "id": "gJ1-bLqgwWkC",
        "colab_type": "code",
        "outputId": "1678f4e3-2218-4f34-c202-ba26758ca9cf",
        "colab": {
          "base_uri": "https://localhost:8080/",
          "height": 35
        }
      },
      "source": [
        "# Example\n",
        "\n",
        "convert_emoticon(\"Hilarious 😂.The feeling of making a sale 😎, The feeling of actually fulfilling orders 😒\")"
      ],
      "execution_count": 32,
      "outputs": [
        {
          "output_type": "execute_result",
          "data": {
            "text/plain": [
              "'Hilarious face_with_tears_of_joy.The feeling of making a sale smiling_face_with_sunglasses, The feeling of actually fulfilling orders unamused_face'"
            ]
          },
          "metadata": {
            "tags": []
          },
          "execution_count": 32
        }
      ]
    },
    {
      "cell_type": "code",
      "metadata": {
        "id": "E044F-TrwFRO",
        "colab_type": "code",
        "colab": {}
      },
      "source": [
        "# Function for converting emoticons into word\n",
        "\n",
        "def convert_emoticons(text):\n",
        "    for emot in EMOTICONS:\n",
        "        text = re.sub(u'('+emot+')', \"_\".join(EMOTICONS[emot].replace(\",\",\"\").split()), text)\n",
        "    return text\n"
      ],
      "execution_count": 0,
      "outputs": []
    },
    {
      "cell_type": "code",
      "metadata": {
        "id": "zcq9TJj0xLR-",
        "colab_type": "code",
        "outputId": "3bcbdabf-cb90-45b5-d3eb-2de90a16a1e8",
        "colab": {
          "base_uri": "https://localhost:8080/",
          "height": 35
        }
      },
      "source": [
        "# Example\n",
        "\n",
        "text = \"Hello :-) :-)\"\n",
        "convert_emoticons(text)"
      ],
      "execution_count": 34,
      "outputs": [
        {
          "output_type": "execute_result",
          "data": {
            "text/plain": [
              "'Hello Happy_face_smiley Happy_face_smiley'"
            ]
          },
          "metadata": {
            "tags": []
          },
          "execution_count": 34
        }
      ]
    },
    {
      "cell_type": "code",
      "metadata": {
        "id": "wy_87vaixKnK",
        "colab_type": "code",
        "colab": {}
      },
      "source": [
        ""
      ],
      "execution_count": 0,
      "outputs": []
    },
    {
      "cell_type": "code",
      "metadata": {
        "id": "XA2YSaQJ6chU",
        "colab_type": "code",
        "colab": {}
      },
      "source": [
        ""
      ],
      "execution_count": 0,
      "outputs": []
    },
    {
      "cell_type": "code",
      "metadata": {
        "id": "xKEEPFCD7Elj",
        "colab_type": "code",
        "colab": {}
      },
      "source": [
        ""
      ],
      "execution_count": 0,
      "outputs": []
    }
  ]
}